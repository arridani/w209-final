{
 "cells": [
  {
   "cell_type": "code",
   "execution_count": 1,
   "metadata": {
    "colab": {
     "base_uri": "https://localhost:8080/"
    },
    "executionInfo": {
     "elapsed": 4733,
     "status": "ok",
     "timestamp": 1664835991176,
     "user": {
      "displayName": "Arriana Daniels",
      "userId": "11139448019885504568"
     },
     "user_tz": 420
    },
    "id": "OW_aCQyF9Pm5",
    "outputId": "f8bfd172-9e6e-4eca-fb74-f02fc5d8c689"
   },
   "outputs": [
    {
     "name": "stdout",
     "output_type": "stream",
     "text": [
      "Collecting pybaseball\n",
      "  Downloading pybaseball-2.2.1-py3-none-any.whl (415 kB)\n",
      "\u001b[K     |████████████████████████████████| 415 kB 4.3 MB/s eta 0:00:01\n",
      "\u001b[?25hRequirement already satisfied: requests>=2.18.1 in /Users/arrianadaniels/anaconda3/lib/python3.8/site-packages (from pybaseball) (2.18.4)\n",
      "Requirement already satisfied: numpy>=1.13.0 in /Users/arrianadaniels/anaconda3/lib/python3.8/site-packages (from pybaseball) (1.19.2)\n",
      "Requirement already satisfied: scipy>=1.4.0 in /Users/arrianadaniels/anaconda3/lib/python3.8/site-packages (from pybaseball) (1.5.2)\n",
      "Requirement already satisfied: matplotlib>=2.0.0 in /Users/arrianadaniels/anaconda3/lib/python3.8/site-packages (from pybaseball) (3.3.2)\n",
      "Requirement already satisfied: attrs>=20.3.0 in /Users/arrianadaniels/anaconda3/lib/python3.8/site-packages (from pybaseball) (20.3.0)\n",
      "Requirement already satisfied: tqdm>=4.50.0 in /Users/arrianadaniels/anaconda3/lib/python3.8/site-packages (from pybaseball) (4.50.2)\n",
      "Collecting pyarrow>=1.0.1\n",
      "  Downloading pyarrow-9.0.0-cp38-cp38-macosx_10_13_x86_64.whl (24.0 MB)\n",
      "\u001b[K     |████████████████████████████████| 24.0 MB 20.9 MB/s eta 0:00:01\n",
      "\u001b[?25hRequirement already satisfied: lxml>=4.2.1 in /Users/arrianadaniels/anaconda3/lib/python3.8/site-packages (from pybaseball) (4.6.1)\n",
      "Requirement already satisfied: beautifulsoup4>=4.4.0 in /Users/arrianadaniels/anaconda3/lib/python3.8/site-packages (from pybaseball) (4.9.3)\n",
      "Requirement already satisfied: pandas>=1.0.3 in /Users/arrianadaniels/anaconda3/lib/python3.8/site-packages (from pybaseball) (1.1.3)\n",
      "Collecting pygithub>=1.51\n",
      "  Downloading PyGithub-1.55-py3-none-any.whl (291 kB)\n",
      "\u001b[K     |████████████████████████████████| 291 kB 21.1 MB/s eta 0:00:01\n",
      "\u001b[?25hRequirement already satisfied: idna<2.7,>=2.5 in /Users/arrianadaniels/anaconda3/lib/python3.8/site-packages (from requests>=2.18.1->pybaseball) (2.6)\n",
      "Requirement already satisfied: certifi>=2017.4.17 in /Users/arrianadaniels/anaconda3/lib/python3.8/site-packages (from requests>=2.18.1->pybaseball) (2020.6.20)\n",
      "Requirement already satisfied: urllib3<1.23,>=1.21.1 in /Users/arrianadaniels/anaconda3/lib/python3.8/site-packages (from requests>=2.18.1->pybaseball) (1.22)\n",
      "Requirement already satisfied: chardet<3.1.0,>=3.0.2 in /Users/arrianadaniels/anaconda3/lib/python3.8/site-packages (from requests>=2.18.1->pybaseball) (3.0.4)\n",
      "Requirement already satisfied: python-dateutil>=2.1 in /Users/arrianadaniels/anaconda3/lib/python3.8/site-packages (from matplotlib>=2.0.0->pybaseball) (2.8.1)\n",
      "Requirement already satisfied: kiwisolver>=1.0.1 in /Users/arrianadaniels/anaconda3/lib/python3.8/site-packages (from matplotlib>=2.0.0->pybaseball) (1.3.0)\n",
      "Requirement already satisfied: pillow>=6.2.0 in /Users/arrianadaniels/anaconda3/lib/python3.8/site-packages (from matplotlib>=2.0.0->pybaseball) (8.0.1)\n",
      "Requirement already satisfied: pyparsing!=2.0.4,!=2.1.2,!=2.1.6,>=2.0.3 in /Users/arrianadaniels/anaconda3/lib/python3.8/site-packages (from matplotlib>=2.0.0->pybaseball) (2.4.7)\n",
      "Requirement already satisfied: cycler>=0.10 in /Users/arrianadaniels/anaconda3/lib/python3.8/site-packages (from matplotlib>=2.0.0->pybaseball) (0.10.0)\n",
      "Requirement already satisfied: soupsieve>1.2; python_version >= \"3.0\" in /Users/arrianadaniels/anaconda3/lib/python3.8/site-packages (from beautifulsoup4>=4.4.0->pybaseball) (2.0.1)\n",
      "Requirement already satisfied: pytz>=2017.2 in /Users/arrianadaniels/anaconda3/lib/python3.8/site-packages (from pandas>=1.0.3->pybaseball) (2020.1)\n",
      "Collecting pyjwt>=2.0\n",
      "  Downloading PyJWT-2.5.0-py3-none-any.whl (20 kB)\n",
      "Collecting pynacl>=1.4.0\n",
      "  Downloading PyNaCl-1.5.0.tar.gz (3.4 MB)\n",
      "\u001b[K     |████████████████████████████████| 3.4 MB 24.4 MB/s eta 0:00:01\n",
      "\u001b[?25h  Installing build dependencies ... \u001b[?25ldone\n",
      "\u001b[?25h  Getting requirements to build wheel ... \u001b[?25ldone\n",
      "\u001b[?25h    Preparing wheel metadata ... \u001b[?25ldone\n",
      "\u001b[?25hCollecting deprecated\n",
      "  Downloading Deprecated-1.2.13-py2.py3-none-any.whl (9.6 kB)\n",
      "Requirement already satisfied: six>=1.5 in /Users/arrianadaniels/anaconda3/lib/python3.8/site-packages (from python-dateutil>=2.1->matplotlib>=2.0.0->pybaseball) (1.15.0)\n",
      "Requirement already satisfied: cffi>=1.4.1 in /Users/arrianadaniels/anaconda3/lib/python3.8/site-packages (from pynacl>=1.4.0->pygithub>=1.51->pybaseball) (1.14.3)\n",
      "Requirement already satisfied: wrapt<2,>=1.10 in /Users/arrianadaniels/anaconda3/lib/python3.8/site-packages (from deprecated->pygithub>=1.51->pybaseball) (1.11.2)\n",
      "Requirement already satisfied: pycparser in /Users/arrianadaniels/anaconda3/lib/python3.8/site-packages (from cffi>=1.4.1->pynacl>=1.4.0->pygithub>=1.51->pybaseball) (2.20)\n",
      "Building wheels for collected packages: pynacl\n",
      "  Building wheel for pynacl (PEP 517) ... \u001b[?25ldone\n",
      "\u001b[?25h  Created wheel for pynacl: filename=PyNaCl-1.5.0-cp38-cp38-macosx_10_9_x86_64.whl size=102958 sha256=7f656a2ecf50c8bd19ea1344df5f6663030511aa7372e664da4c52448359833f\n",
      "  Stored in directory: /Users/arrianadaniels/Library/Caches/pip/wheels/3e/4c/46/6bbb66a5a15a3fa4e336d680ccc6a4ebd556d087d38945ce17\n",
      "Successfully built pynacl\n",
      "Installing collected packages: pyarrow, pyjwt, pynacl, deprecated, pygithub, pybaseball\n",
      "Successfully installed deprecated-1.2.13 pyarrow-9.0.0 pybaseball-2.2.1 pygithub-1.55 pyjwt-2.5.0 pynacl-1.5.0\n"
     ]
    }
   ],
   "source": [
    "!pip install pybaseball"
   ]
  },
  {
   "cell_type": "code",
   "execution_count": 2,
   "metadata": {
    "executionInfo": {
     "elapsed": 618,
     "status": "ok",
     "timestamp": 1664835995781,
     "user": {
      "displayName": "Arriana Daniels",
      "userId": "11139448019885504568"
     },
     "user_tz": 420
    },
    "id": "6cd6c353-4f25-4965-812a-d197f3aa26e3"
   },
   "outputs": [],
   "source": [
    "import pandas as pd\n",
    "from pybaseball import statcast"
   ]
  },
  {
   "cell_type": "code",
   "execution_count": 3,
   "metadata": {
    "colab": {
     "base_uri": "https://localhost:8080/"
    },
    "executionInfo": {
     "elapsed": 87341,
     "status": "ok",
     "timestamp": 1664836092792,
     "user": {
      "displayName": "Arriana Daniels",
      "userId": "11139448019885504568"
     },
     "user_tz": 420
    },
    "id": "761be4f7-b8be-4bc3-853b-06a2029d7d02",
    "outputId": "38b30c48-13c4-4d4a-f1cc-a0ca00921b6b"
   },
   "outputs": [
    {
     "name": "stdout",
     "output_type": "stream",
     "text": [
      "This is a large query, it may take a moment to complete\n"
     ]
    },
    {
     "name": "stderr",
     "output_type": "stream",
     "text": [
      "100%|██████████| 21/21 [00:40<00:00,  1.92s/it]\n"
     ]
    }
   ],
   "source": [
    "data_first_half = statcast(start_dt='2022-04-07', end_dt='2022-04-27')"
   ]
  },
  {
   "cell_type": "code",
   "execution_count": 6,
   "metadata": {},
   "outputs": [
    {
     "data": {
      "text/plain": [
       "pandas.core.frame.DataFrame"
      ]
     },
     "execution_count": 6,
     "metadata": {},
     "output_type": "execute_result"
    }
   ],
   "source": [
    "type(data_first_half)"
   ]
  },
  {
   "cell_type": "code",
   "execution_count": 5,
   "metadata": {
    "executionInfo": {
     "elapsed": 2590,
     "status": "ok",
     "timestamp": 1664836095374,
     "user": {
      "displayName": "Arriana Daniels",
      "userId": "11139448019885504568"
     },
     "user_tz": 420
    },
    "id": "15d3cdd9-8ca4-42e9-884b-3f3369fca786"
   },
   "outputs": [],
   "source": [
    "# data_first_half.to_csv('statcast_first_21_2022.csv', index=False)"
   ]
  },
  {
   "cell_type": "code",
   "execution_count": 4,
   "metadata": {
    "colab": {
     "base_uri": "https://localhost:8080/"
    },
    "executionInfo": {
     "elapsed": 97518,
     "status": "ok",
     "timestamp": 1664836192884,
     "user": {
      "displayName": "Arriana Daniels",
      "userId": "11139448019885504568"
     },
     "user_tz": 420
    },
    "id": "a1e52d9a-9ab7-49bc-a0c6-814d22063aac",
    "outputId": "c2a99fb3-60a4-46ba-9468-921222b997fa"
   },
   "outputs": [
    {
     "name": "stdout",
     "output_type": "stream",
     "text": [
      "This is a large query, it may take a moment to complete\n"
     ]
    },
    {
     "name": "stderr",
     "output_type": "stream",
     "text": [
      "100%|██████████| 21/21 [00:39<00:00,  1.86s/it]\n"
     ]
    }
   ],
   "source": [
    "data_second_half = statcast(start_dt='2022-07-21', end_dt='2022-08-10')"
   ]
  },
  {
   "cell_type": "code",
   "execution_count": 7,
   "metadata": {
    "executionInfo": {
     "elapsed": 3101,
     "status": "ok",
     "timestamp": 1664836195954,
     "user": {
      "displayName": "Arriana Daniels",
      "userId": "11139448019885504568"
     },
     "user_tz": 420
    },
    "id": "03ddb918-d554-49b3-bfef-76f1a4bd348b"
   },
   "outputs": [],
   "source": [
    "# data_second_half.to_csv('statcast_second_21_2022.csv', index=False)"
   ]
  },
  {
   "cell_type": "code",
   "execution_count": 7,
   "metadata": {
    "id": "hNJ1OUFWA5Lu"
   },
   "outputs": [],
   "source": [
    " full = pd.concat([data_first_half, data_second_half])"
   ]
  },
  {
   "cell_type": "code",
   "execution_count": 8,
   "metadata": {
    "id": "cd052e07-e407-4e13-b53a-ad64382d5d65"
   },
   "outputs": [],
   "source": [
    "full.to_csv('../raw_data/full_statcast.csv', index=False)"
   ]
  },
  {
   "cell_type": "code",
   "execution_count": null,
   "metadata": {},
   "outputs": [],
   "source": []
  }
 ],
 "metadata": {
  "colab": {
   "provenance": []
  },
  "kernelspec": {
   "display_name": "Python 3",
   "language": "python",
   "name": "python3"
  },
  "language_info": {
   "codemirror_mode": {
    "name": "ipython",
    "version": 3
   },
   "file_extension": ".py",
   "mimetype": "text/x-python",
   "name": "python",
   "nbconvert_exporter": "python",
   "pygments_lexer": "ipython3",
   "version": "3.8.5"
  }
 },
 "nbformat": 4,
 "nbformat_minor": 5
}
